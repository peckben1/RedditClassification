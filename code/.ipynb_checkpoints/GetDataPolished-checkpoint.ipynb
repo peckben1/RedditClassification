{
 "cells": [
  {
   "cell_type": "code",
   "execution_count": 1,
   "metadata": {},
   "outputs": [],
   "source": [
    "import requests\n",
    "import pandas as pd\n",
    "import time"
   ]
  },
  {
   "cell_type": "code",
   "execution_count": 2,
   "metadata": {},
   "outputs": [],
   "source": [
    "# Set max columns and rows displayed\n",
    "pd.set_option('display.max_columns', 10000)\n",
    "pd.set_option('display.max_rows', 10000)"
   ]
  },
  {
   "cell_type": "code",
   "execution_count": 3,
   "metadata": {},
   "outputs": [],
   "source": [
    "# initial url for reddit API submissions endpoint\n",
    "url = 'https://api.pushshift.io/reddit/search/submission'"
   ]
  },
  {
   "cell_type": "code",
   "execution_count": 4,
   "metadata": {},
   "outputs": [],
   "source": [
    "def pull_data(subreddit, loops):\n",
    "    params = {\n",
    "        'subreddit' : subreddit,\n",
    "        'size' : 500\n",
    "    }\n",
    "\n",
    "    # Initial API call\n",
    "    res = requests.get(url, params)\n",
    "    data = res.json()\n",
    "    posts = data['data']\n",
    "\n",
    "    # Create dataframe\n",
    "    df = pd.DataFrame(posts)\n",
    "\n",
    "    # adapted from Jake Ellena - establish earliest post in data and loop, using min_date to replace \"before\"\n",
    "    min_date = df['created_utc'].min()\n",
    "\n",
    "    for i in range(loops - 1):\n",
    "        params = {\n",
    "        'subreddit' : subreddit,\n",
    "        'size' : 500,\n",
    "        'before' : min_date\n",
    "    }\n",
    "        res = requests.get(url, params)\n",
    "        data = res.json()\n",
    "        posts = data['data']\n",
    "        df2 = pd.DataFrame(posts)\n",
    "        df = pd.concat([df, df2], sort=False)\n",
    "        min_date = df['created_utc'].min()\n",
    "\n",
    "    # trim down to just the rows I want\n",
    "    df = df[['subreddit', 'selftext', 'title', 'created_utc', 'score']]\n",
    "    \n",
    "    return df"
   ]
  },
  {
   "cell_type": "code",
   "execution_count": 5,
   "metadata": {},
   "outputs": [],
   "source": [
    "# call function on exmormon\n",
    "exmormon = pull_data('exmormon', 20)"
   ]
  },
  {
   "cell_type": "code",
   "execution_count": 6,
   "metadata": {},
   "outputs": [],
   "source": [
    "# call function on latterdaysaints\n",
    "latterdaysaints = pull_data('latterdaysaints', 20)"
   ]
  },
  {
   "cell_type": "code",
   "execution_count": 7,
   "metadata": {},
   "outputs": [],
   "source": [
    "# stick the results together\n",
    "posts = pd.concat([latterdaysaints, exmormon])"
   ]
  },
  {
   "cell_type": "code",
   "execution_count": 8,
   "metadata": {},
   "outputs": [],
   "source": [
    "# write results to csv\n",
    "posts.to_csv('../data/posts.csv', index=False)"
   ]
  },
  {
   "cell_type": "code",
   "execution_count": null,
   "metadata": {},
   "outputs": [],
   "source": []
  }
 ],
 "metadata": {
  "kernelspec": {
   "display_name": "Python 3",
   "language": "python",
   "name": "python3"
  },
  "language_info": {
   "codemirror_mode": {
    "name": "ipython",
    "version": 3
   },
   "file_extension": ".py",
   "mimetype": "text/x-python",
   "name": "python",
   "nbconvert_exporter": "python",
   "pygments_lexer": "ipython3",
   "version": "3.7.4"
  }
 },
 "nbformat": 4,
 "nbformat_minor": 4
}
