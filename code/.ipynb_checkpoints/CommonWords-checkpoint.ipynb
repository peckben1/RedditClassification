{
 "cells": [
  {
   "cell_type": "code",
   "execution_count": 1,
   "metadata": {},
   "outputs": [],
   "source": [
    "import pandas as pd\n",
    "from sklearn.model_selection import train_test_split, GridSearchCV\n",
    "from sklearn.pipeline import Pipeline\n",
    "from sklearn.neighbors import KNeighborsClassifier\n",
    "from sklearn.feature_extraction.text import CountVectorizer, TfidfVectorizer\n",
    "from nltk.stem import PorterStemmer"
   ]
  },
  {
   "cell_type": "code",
   "execution_count": 2,
   "metadata": {},
   "outputs": [],
   "source": [
    "# Set max columns and rows displayed\n",
    "pd.set_option('display.max_columns', 10000)\n",
    "pd.set_option('display.max_rows', 10000)"
   ]
  },
  {
   "cell_type": "code",
   "execution_count": 3,
   "metadata": {},
   "outputs": [],
   "source": [
    "data = pd.read_csv('../data/posts.csv')"
   ]
  },
  {
   "cell_type": "code",
   "execution_count": 4,
   "metadata": {},
   "outputs": [
    {
     "data": {
      "text/plain": [
       "subreddit         0\n",
       "selftext       8548\n",
       "title             0\n",
       "created_utc       0\n",
       "score             0\n",
       "dtype: int64"
      ]
     },
     "execution_count": 4,
     "metadata": {},
     "output_type": "execute_result"
    }
   ],
   "source": [
    "# Time for some EDA - checking for nulls\n",
    "data.isnull().sum()"
   ]
  },
  {
   "cell_type": "code",
   "execution_count": 5,
   "metadata": {},
   "outputs": [
    {
     "data": {
      "text/plain": [
       "latterdaysaints    0.564006\n",
       "exmormon           0.435994\n",
       "Name: subreddit, dtype: float64"
      ]
     },
     "execution_count": 5,
     "metadata": {},
     "output_type": "execute_result"
    }
   ],
   "source": [
    "# Looks like dropping nulls won't unbalance the classes too badly\n",
    "data.dropna(subset=['selftext'])['subreddit'].value_counts(normalize=True)"
   ]
  },
  {
   "cell_type": "code",
   "execution_count": 6,
   "metadata": {},
   "outputs": [],
   "source": [
    "data.dropna(subset=['selftext'], inplace=True)"
   ]
  },
  {
   "cell_type": "code",
   "execution_count": 7,
   "metadata": {},
   "outputs": [
    {
     "data": {
      "text/html": [
       "<div>\n",
       "<style scoped>\n",
       "    .dataframe tbody tr th:only-of-type {\n",
       "        vertical-align: middle;\n",
       "    }\n",
       "\n",
       "    .dataframe tbody tr th {\n",
       "        vertical-align: top;\n",
       "    }\n",
       "\n",
       "    .dataframe thead th {\n",
       "        text-align: right;\n",
       "    }\n",
       "</style>\n",
       "<table border=\"1\" class=\"dataframe\">\n",
       "  <thead>\n",
       "    <tr style=\"text-align: right;\">\n",
       "      <th></th>\n",
       "      <th>subreddit</th>\n",
       "      <th>selftext</th>\n",
       "      <th>title</th>\n",
       "      <th>created_utc</th>\n",
       "      <th>score</th>\n",
       "    </tr>\n",
       "  </thead>\n",
       "  <tbody>\n",
       "    <tr>\n",
       "      <th>0</th>\n",
       "      <td>latterdaysaints</td>\n",
       "      <td>There were a few people there that I never eve...</td>\n",
       "      <td>I went to the homecoming talk for someone from...</td>\n",
       "      <td>1580247795</td>\n",
       "      <td>3</td>\n",
       "    </tr>\n",
       "    <tr>\n",
       "      <th>1</th>\n",
       "      <td>latterdaysaints</td>\n",
       "      <td>&amp;amp;#x200B;\\n\\n# How do I show my family them...</td>\n",
       "      <td>Father of four whos older kids falling away fr...</td>\n",
       "      <td>1580243384</td>\n",
       "      <td>4</td>\n",
       "    </tr>\n",
       "    <tr>\n",
       "      <th>2</th>\n",
       "      <td>latterdaysaints</td>\n",
       "      <td>I moved into a ward with my family about a yea...</td>\n",
       "      <td>How to care about a ward that doesn’t care abo...</td>\n",
       "      <td>1580242175</td>\n",
       "      <td>0</td>\n",
       "    </tr>\n",
       "    <tr>\n",
       "      <th>4</th>\n",
       "      <td>latterdaysaints</td>\n",
       "      <td>The 25th of January 2020 I was baptized in my ...</td>\n",
       "      <td>It turns out my Baptism was a historical momen...</td>\n",
       "      <td>1580240396</td>\n",
       "      <td>20</td>\n",
       "    </tr>\n",
       "    <tr>\n",
       "      <th>6</th>\n",
       "      <td>latterdaysaints</td>\n",
       "      <td>My friend whose not a part of the church menti...</td>\n",
       "      <td>I’ve been pondering this for awhile. What is t...</td>\n",
       "      <td>1580238666</td>\n",
       "      <td>1</td>\n",
       "    </tr>\n",
       "  </tbody>\n",
       "</table>\n",
       "</div>"
      ],
      "text/plain": [
       "         subreddit                                           selftext  \\\n",
       "0  latterdaysaints  There were a few people there that I never eve...   \n",
       "1  latterdaysaints  &amp;#x200B;\\n\\n# How do I show my family them...   \n",
       "2  latterdaysaints  I moved into a ward with my family about a yea...   \n",
       "4  latterdaysaints  The 25th of January 2020 I was baptized in my ...   \n",
       "6  latterdaysaints  My friend whose not a part of the church menti...   \n",
       "\n",
       "                                               title  created_utc  score  \n",
       "0  I went to the homecoming talk for someone from...   1580247795      3  \n",
       "1  Father of four whos older kids falling away fr...   1580243384      4  \n",
       "2  How to care about a ward that doesn’t care abo...   1580242175      0  \n",
       "4  It turns out my Baptism was a historical momen...   1580240396     20  \n",
       "6  I’ve been pondering this for awhile. What is t...   1580238666      1  "
      ]
     },
     "execution_count": 7,
     "metadata": {},
     "output_type": "execute_result"
    }
   ],
   "source": [
    "data.head()"
   ]
  },
  {
   "cell_type": "code",
   "execution_count": 8,
   "metadata": {},
   "outputs": [
    {
     "data": {
      "text/plain": [
       "latterdaysaints    0.540942\n",
       "exmormon           0.459058\n",
       "Name: subreddit, dtype: float64"
      ]
     },
     "execution_count": 8,
     "metadata": {},
     "output_type": "execute_result"
    }
   ],
   "source": [
    "# Looks good to drop [removed] posts as well\n",
    "data.drop(data[data['selftext'] == '[removed]'].index, 0)['subreddit'].value_counts(normalize=True)"
   ]
  },
  {
   "cell_type": "code",
   "execution_count": 9,
   "metadata": {},
   "outputs": [],
   "source": [
    "data.drop(data[data['selftext'] == '[removed]'].index, 0, inplace=True)"
   ]
  },
  {
   "cell_type": "code",
   "execution_count": 10,
   "metadata": {},
   "outputs": [],
   "source": [
    "# also dropping [deleted] posts\n",
    "data.drop(data[data['selftext'] == '[deleted]'].index, 0, inplace=True)"
   ]
  },
  {
   "cell_type": "code",
   "execution_count": 11,
   "metadata": {},
   "outputs": [
    {
     "data": {
      "text/plain": [
       "(10232, 5)"
      ]
     },
     "execution_count": 11,
     "metadata": {},
     "output_type": "execute_result"
    }
   ],
   "source": [
    "# have just over 10k rows left now\n",
    "data.shape"
   ]
  },
  {
   "cell_type": "code",
   "execution_count": 12,
   "metadata": {},
   "outputs": [
    {
     "data": {
      "text/plain": [
       "subreddit      object\n",
       "selftext       object\n",
       "title          object\n",
       "created_utc     int64\n",
       "score           int64\n",
       "dtype: object"
      ]
     },
     "execution_count": 12,
     "metadata": {},
     "output_type": "execute_result"
    }
   ],
   "source": [
    "# all as they should be\n",
    "data.dtypes"
   ]
  },
  {
   "cell_type": "code",
   "execution_count": 13,
   "metadata": {},
   "outputs": [],
   "source": [
    "# converting \"subreddit\" column to a dummy\n",
    "data = pd.get_dummies(data, columns=['subreddit'], drop_first=True)"
   ]
  },
  {
   "cell_type": "code",
   "execution_count": 14,
   "metadata": {},
   "outputs": [
    {
     "data": {
      "text/html": [
       "<div>\n",
       "<style scoped>\n",
       "    .dataframe tbody tr th:only-of-type {\n",
       "        vertical-align: middle;\n",
       "    }\n",
       "\n",
       "    .dataframe tbody tr th {\n",
       "        vertical-align: top;\n",
       "    }\n",
       "\n",
       "    .dataframe thead th {\n",
       "        text-align: right;\n",
       "    }\n",
       "</style>\n",
       "<table border=\"1\" class=\"dataframe\">\n",
       "  <thead>\n",
       "    <tr style=\"text-align: right;\">\n",
       "      <th></th>\n",
       "      <th>selftext</th>\n",
       "      <th>title</th>\n",
       "      <th>created_utc</th>\n",
       "      <th>score</th>\n",
       "      <th>subreddit_latterdaysaints</th>\n",
       "    </tr>\n",
       "  </thead>\n",
       "  <tbody>\n",
       "    <tr>\n",
       "      <th>0</th>\n",
       "      <td>There were a few people there that I never eve...</td>\n",
       "      <td>I went to the homecoming talk for someone from...</td>\n",
       "      <td>1580247795</td>\n",
       "      <td>3</td>\n",
       "      <td>1</td>\n",
       "    </tr>\n",
       "    <tr>\n",
       "      <th>1</th>\n",
       "      <td>&amp;amp;#x200B;\\n\\n# How do I show my family them...</td>\n",
       "      <td>Father of four whos older kids falling away fr...</td>\n",
       "      <td>1580243384</td>\n",
       "      <td>4</td>\n",
       "      <td>1</td>\n",
       "    </tr>\n",
       "    <tr>\n",
       "      <th>2</th>\n",
       "      <td>I moved into a ward with my family about a yea...</td>\n",
       "      <td>How to care about a ward that doesn’t care abo...</td>\n",
       "      <td>1580242175</td>\n",
       "      <td>0</td>\n",
       "      <td>1</td>\n",
       "    </tr>\n",
       "    <tr>\n",
       "      <th>4</th>\n",
       "      <td>The 25th of January 2020 I was baptized in my ...</td>\n",
       "      <td>It turns out my Baptism was a historical momen...</td>\n",
       "      <td>1580240396</td>\n",
       "      <td>20</td>\n",
       "      <td>1</td>\n",
       "    </tr>\n",
       "    <tr>\n",
       "      <th>6</th>\n",
       "      <td>My friend whose not a part of the church menti...</td>\n",
       "      <td>I’ve been pondering this for awhile. What is t...</td>\n",
       "      <td>1580238666</td>\n",
       "      <td>1</td>\n",
       "      <td>1</td>\n",
       "    </tr>\n",
       "  </tbody>\n",
       "</table>\n",
       "</div>"
      ],
      "text/plain": [
       "                                            selftext  \\\n",
       "0  There were a few people there that I never eve...   \n",
       "1  &amp;#x200B;\\n\\n# How do I show my family them...   \n",
       "2  I moved into a ward with my family about a yea...   \n",
       "4  The 25th of January 2020 I was baptized in my ...   \n",
       "6  My friend whose not a part of the church menti...   \n",
       "\n",
       "                                               title  created_utc  score  \\\n",
       "0  I went to the homecoming talk for someone from...   1580247795      3   \n",
       "1  Father of four whos older kids falling away fr...   1580243384      4   \n",
       "2  How to care about a ward that doesn’t care abo...   1580242175      0   \n",
       "4  It turns out my Baptism was a historical momen...   1580240396     20   \n",
       "6  I’ve been pondering this for awhile. What is t...   1580238666      1   \n",
       "\n",
       "   subreddit_latterdaysaints  \n",
       "0                          1  \n",
       "1                          1  \n",
       "2                          1  \n",
       "4                          1  \n",
       "6                          1  "
      ]
     },
     "execution_count": 14,
     "metadata": {},
     "output_type": "execute_result"
    }
   ],
   "source": [
    "# Looking good\n",
    "data.head()"
   ]
  },
  {
   "cell_type": "code",
   "execution_count": 15,
   "metadata": {},
   "outputs": [],
   "source": [
    "# Combining title and content of posts into a single block of text\n",
    "data['all_text'] = data['title'] + \" \" + data['selftext']"
   ]
  },
  {
   "cell_type": "code",
   "execution_count": 16,
   "metadata": {},
   "outputs": [],
   "source": [
    "data.reset_index(inplace=True)"
   ]
  },
  {
   "cell_type": "code",
   "execution_count": 17,
   "metadata": {},
   "outputs": [],
   "source": [
    "data['all_text'] = [text.replace(\"x200B\", \"\") for text in data['all_text']]"
   ]
  },
  {
   "cell_type": "code",
   "execution_count": 18,
   "metadata": {},
   "outputs": [],
   "source": [
    "data['all_text'] = [text.replace(\"amp;\", \"\") for text in data['all_text']]"
   ]
  },
  {
   "cell_type": "code",
   "execution_count": 19,
   "metadata": {},
   "outputs": [],
   "source": [
    "data['all_text'] = [text.replace(\"'\", \"\") for text in data['all_text']]"
   ]
  },
  {
   "cell_type": "code",
   "execution_count": 45,
   "metadata": {},
   "outputs": [],
   "source": [
    "# Define features and target, filtered by subreddit. Change 1 to 0 in the two lines below to see 100 top\n",
    "# words in r/exmormon and eliminate filter to see top words overall. \n",
    "X = data['all_text'][data['subreddit_latterdaysaints'] == 1]\n",
    "y = data['subreddit_latterdaysaints'][data['subreddit_latterdaysaints'] == 1]"
   ]
  },
  {
   "cell_type": "code",
   "execution_count": 46,
   "metadata": {},
   "outputs": [],
   "source": [
    "X_train, X_test, y_train, y_test = train_test_split(X,\n",
    "                                                    y,\n",
    "                                                    stratify=y,\n",
    "                                                    random_state=42)"
   ]
  },
  {
   "cell_type": "code",
   "execution_count": 47,
   "metadata": {},
   "outputs": [
    {
     "data": {
      "text/plain": [
       "3825    Why not women? Im just wondering if there is a...\n",
       "4732    R Rated Movie Exceptions There was an interest...\n",
       "3043    Parents, how do you get something out of the s...\n",
       "3784    What I heard is that I need to do a better job...\n",
       "3035    The Indians of South America The Indians of So...\n",
       "Name: all_text, dtype: object"
      ]
     },
     "execution_count": 47,
     "metadata": {},
     "output_type": "execute_result"
    }
   ],
   "source": [
    "X_train.head()"
   ]
  },
  {
   "cell_type": "code",
   "execution_count": 48,
   "metadata": {},
   "outputs": [
    {
     "data": {
      "text/plain": [
       "church        4089\n",
       "im            3229\n",
       "just          2812\n",
       "like          2636\n",
       "know          2339\n",
       "dont          1992\n",
       "people        1755\n",
       "god           1725\n",
       "time          1720\n",
       "ive           1705\n",
       "feel          1612\n",
       "https         1398\n",
       "really        1356\n",
       "want          1290\n",
       "think         1267\n",
       "things        1229\n",
       "day           1206\n",
       "mormon        1198\n",
       "temple        1172\n",
       "book          1146\n",
       "life          1144\n",
       "love          1042\n",
       "help          1028\n",
       "lds           1002\n",
       "family         991\n",
       "www            975\n",
       "good           971\n",
       "christ         953\n",
       "way            935\n",
       "going          923\n",
       "years          922\n",
       "new            906\n",
       "mission        891\n",
       "did            889\n",
       "come           885\n",
       "said           882\n",
       "faith          832\n",
       "joseph         829\n",
       "does           819\n",
       "com            801\n",
       "believe        795\n",
       "jesus          792\n",
       "make           788\n",
       "ward           782\n",
       "need           764\n",
       "question       760\n",
       "say            749\n",
       "gospel         724\n",
       "members        693\n",
       "talk           690\n",
       "conference     675\n",
       "org            656\n",
       "right          655\n",
       "got            653\n",
       "year           651\n",
       "member         633\n",
       "read           621\n",
       "spirit         621\n",
       "lot            614\n",
       "didnt          613\n",
       "work           612\n",
       "home           610\n",
       "thought        608\n",
       "president      602\n",
       "felt           585\n",
       "gt             577\n",
       "told           571\n",
       "long           550\n",
       "general        550\n",
       "study          546\n",
       "true           542\n",
       "father         542\n",
       "bishop         540\n",
       "having         539\n",
       "great          535\n",
       "lord           527\n",
       "smith          524\n",
       "thing          519\n",
       "little         512\n",
       "children       491\n",
       "trying         489\n",
       "wife           486\n",
       "questions      480\n",
       "today          478\n",
       "week           476\n",
       "testimony      464\n",
       "came           463\n",
       "man            462\n",
       "young          461\n",
       "doesnt         455\n",
       "sunday         455\n",
       "friends        453\n",
       "understand     451\n",
       "kids           447\n",
       "sure           447\n",
       "doing          442\n",
       "scriptures     438\n",
       "live           436\n",
       "world          436\n",
       "asked          436\n",
       "dtype: int64"
      ]
     },
     "execution_count": 48,
     "metadata": {},
     "output_type": "execute_result"
    }
   ],
   "source": [
    "cvec = CountVectorizer(stop_words='english', max_features=100, strip_accents=\"ascii\")\n",
    "cvec.fit(X_train)\n",
    "X_train_2 = cvec.transform(X_train)\n",
    "X_train_df = pd.DataFrame(X_train_2.toarray(),\n",
    "                          columns=cvec.get_feature_names())\n",
    "X_train_df.sum().sort_values(ascending=False)"
   ]
  },
  {
   "cell_type": "code",
   "execution_count": null,
   "metadata": {},
   "outputs": [],
   "source": []
  }
 ],
 "metadata": {
  "kernelspec": {
   "display_name": "Python 3",
   "language": "python",
   "name": "python3"
  },
  "language_info": {
   "codemirror_mode": {
    "name": "ipython",
    "version": 3
   },
   "file_extension": ".py",
   "mimetype": "text/x-python",
   "name": "python",
   "nbconvert_exporter": "python",
   "pygments_lexer": "ipython3",
   "version": "3.7.4"
  }
 },
 "nbformat": 4,
 "nbformat_minor": 4
}
